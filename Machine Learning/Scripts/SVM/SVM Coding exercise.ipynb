{
 "cells": [
  {
   "cell_type": "code",
   "execution_count": 54,
   "metadata": {},
   "outputs": [
    {
     "name": "stdout",
     "output_type": "stream",
     "text": [
      "Bilder: \n",
      " 1797\n",
      "Pixel: \n",
      " 64\n",
      "\n",
      " Score : \n",
      " 0.9761526232114467\n",
      "\n",
      " Confusion matrix: \n",
      "  [[57  0  0  0  0  0  0  0  0  0]\n",
      " [ 0 59  0  0  0  0  0  0  2  0]\n",
      " [ 0  0 56  1  0  0  0  0  0  0]\n",
      " [ 0  0  1 60  0  1  0  0  0  0]\n",
      " [ 0  0  0  0 66  0  0  0  0  0]\n",
      " [ 0  0  0  1  0 73  1  0  0  1]\n",
      " [ 1  0  0  0  0  0 58  0  0  0]\n",
      " [ 0  0  0  0  0  0  0 64  0  1]\n",
      " [ 0  2  0  0  0  1  0  0 52  0]\n",
      " [ 0  0  0  1  0  0  0  0  1 69]]\n",
      "Sum of Explained Variance Ratio:  0.148906 \t with:  1  components.\n",
      "Sum of Explained Variance Ratio:  0.285094 \t with:  2  components.\n",
      "Sum of Explained Variance Ratio:  0.40304 \t with:  3  components.\n",
      "Sum of Explained Variance Ratio:  0.487139 \t with:  4  components.\n",
      "Sum of Explained Variance Ratio:  0.544964 \t with:  5  components.\n",
      "Sum of Explained Variance Ratio:  0.594133 \t with:  6  components.\n",
      "Sum of Explained Variance Ratio:  0.637293 \t with:  7  components.\n",
      "Sum of Explained Variance Ratio:  0.673906 \t with:  8  components.\n",
      "Sum of Explained Variance Ratio:  0.707438 \t with:  9  components.\n",
      "Sum of Explained Variance Ratio:  0.738226 \t with:  10  components.\n",
      "Sum of Explained Variance Ratio:  0.761949 \t with:  11  components.\n",
      "Sum of Explained Variance Ratio:  0.784675 \t with:  12  components.\n",
      "Sum of Explained Variance Ratio:  0.802895 \t with:  13  components.\n",
      "Sum of Explained Variance Ratio:  0.820627 \t with:  14  components.\n",
      "Sum of Explained Variance Ratio:  0.835297 \t with:  15  components.\n",
      "Sum of Explained Variance Ratio:  0.849401 \t with:  16  components.\n",
      "Sum of Explained Variance Ratio:  0.862585 \t with:  17  components.\n",
      "Sum of Explained Variance Ratio:  0.875055 \t with:  18  components.\n",
      "Sum of Explained Variance Ratio:  0.885229 \t with:  19  components.\n",
      "Sum of Explained Variance Ratio:  0.894272 \t with:  20  components.\n",
      "Sum of Explained Variance Ratio:  0.903188 \t with:  21  components.\n",
      "Sum of Explained Variance Ratio:  0.911061 \t with:  22  components.\n",
      "Sum of Explained Variance Ratio:  0.918841 \t with:  23  components.\n"
     ]
    },
    {
     "data": {
      "image/png": "[encoded data removed]",
      "text/plain": [
       "<Figure size 432x288 with 10 Axes>"
      ]
     },
     "metadata": {
      "needs_background": "light"
     },
     "output_type": "display_data"
    }
   ],
   "source": [
    "# Imports\\n\",\n",
    "import time\n",
    "import numpy as np\n",
    "import pandas as pd\n",
    "import matplotlib.pyplot as plt\n",
    "    \n",
    "# Sklearn Methods\\n\",\n",
    "from sklearn.svm import SVC\n",
    "from sklearn.metrics import confusion_matrix\n",
    "from sklearn.datasets import load_digits\n",
    "from sklearn.model_selection import GridSearchCV\n",
    "from sklearn.model_selection import train_test_split\n",
    "from sklearn.model_selection import cross_val_score\n",
    "from sklearn.model_selection import cross_val_predict\n",
    "from sklearn.model_selection import KFold\n",
    "from sklearn.decomposition import PCA\n",
    "from sklearn.preprocessing import StandardScaler\n",
    "\n",
    "\n",
    "  \n",
    "# Load Dataset\\n\n",
    "mnist = load_digits()\n",
    "    \n",
    "x = mnist.data.astype(np.float32)\n",
    "y = mnist.target.astype(np.float32)\n",
    "x_train, x_test, y_train, y_test = train_test_split(x, y, random_state=42, test_size=0.35)\n",
    "    \n",
    "n_samples, n_features = x.shape\n",
    "\n",
    "print(\"Images: \\n\", n_samples)\n",
    "print(\"Pixel: \\n\", n_features)\n",
    "   \n",
    " \n",
    " #Plot random images\\n\",\n",
    "for index, (image, label) in enumerate(zip(x_train[:10], y_train[:10])):\n",
    "    plt.subplot(2, 5, index + 1)\n",
    "    plt.axis('off')\n",
    "    plt.imshow(image.reshape((8, 8)), cmap=plt.cm.gray_r, interpolation='nearest')\n",
    "    plt.title('Train: %i' % (label+1))\n",
    "  \n",
    "# Normalize Features with StandardScaler\\n\",\n",
    "scaler = StandardScaler()\n",
    "scaler.fit(x_train)\n",
    "    \n",
    "x_train = scaler.transform(x_train)\n",
    "x_test = scaler.transform(x_test)\n",
    "   \n",
    "# Test 1: train your SVM with a linear Kernel on the MNIST Dataset.\\n\",\n",
    "kernel = \"linear\"\n",
    "clfn = SVC(kernel= kernel)\n",
    "clfn.fit(x_train,y_train)\n",
    "      \n",
    "# What did you notice during the training?\\n\"\n",
    "\n",
    "# Sklearn: http://scikit-learn.org/stable/modules/generated/sklearn.svm.SVC.html\"\n",
    "  \n",
    "# Test 2: Indicate the accuracy and create the Confusion_matrix.\\n\",\n",
    "\n",
    "score = clfn.score(x_test, y_test)\n",
    "print(\"\\n Score : \\n\" , score)\n",
    "y_pred = clfn.predict(x_test)\n",
    "\n",
    "print(\"\\n Confusion matrix: \\n \", confusion_matrix(y_test, y_pred))\n",
    "\n",
    "# Test 3: Use PCA to reduce the feature dimensions.\\n\",\n",
    "for i in range(1, 50):\n",
    "    n_components = i\n",
    "    pca = PCA(n_components=n_components, copy=True)\n",
    "    pca.fit(x)\n",
    "    \n",
    "    explained_variance_ratio = sum(pca.explained_variance_ratio_)\n",
    "    \n",
    "    if explained_variance_ratio > 0.92:\n",
    "        break\n",
    "    else:  \n",
    "        best_explained_variance_ratio = explained_variance_ratio\n",
    "        print(\"Sum of Explained Variance Ratio: \", round(explained_variance_ratio, 6), \"\\t with: \", n_components, \" components.\") \n",
    "# Atleast 90% of the variance should be maintained.\\n\",\n",
    "\n",
    "\n",
    "\n",
    "  \n",
    "\n"
   ]
  },
  {
   "cell_type": "code",
   "execution_count": 55,
   "metadata": {},
   "outputs": [
    {
     "name": "stderr",
     "output_type": "stream",
     "text": [
      "C:\\ProgramData\\Anaconda3\\lib\\site-packages\\sklearn\\svm\\_base.py:231: ConvergenceWarning: Solver terminated early (max_iter=100).  Consider pre-processing your data with StandardScaler or MinMaxScaler.\n",
      "  % self.max_iter, ConvergenceWarning)\n"
     ]
    }
   ],
   "source": [
    "# Train a SVM using GridSearch.\\n\",\n",
    "\n",
    "pca = PCA(n_components= 21)\n",
    "pca.fit(x)\n",
    "x_transformed = pca.transform(x)\n",
    "\n",
    "x_train, x_test, y_train, y_test = train_test_split(x_transformed, y, random_state=42, test_size=0.35)\n",
    "parameters = {\"kernel\":[\"linear\", \"poly\", \"rbf\"], 'gamma': [0.01, 0.001],\n",
    "              'max_iter': [100]  } \n",
    "\n",
    "# GridSearchCV \n",
    "\n",
    "\n",
    "\n",
    "svm = SVC()\n",
    "clf = GridSearchCV(svm, parameters, cv=10, n_jobs=-1)\n",
    "\n",
    "clf.fit(x_transformed, y)\n",
    "\n",
    "y_pred = clf.predict(x_test)\n",
    "\n",
    "# What did you notice during the training?\"\n"
   ]
  },
  {
   "cell_type": "code",
   "execution_count": 53,
   "metadata": {},
   "outputs": [
    {
     "name": "stdout",
     "output_type": "stream",
     "text": [
      "\n",
      " Score : \n",
      " 0.9984101748807631\n",
      "\n",
      " Confusion matrix: \n",
      "  [[57  0  0  0  0  0  0  0  0  0]\n",
      " [ 0 61  0  0  0  0  0  0  0  0]\n",
      " [ 0  0 57  0  0  0  0  0  0  0]\n",
      " [ 0  0  0 62  0  0  0  0  0  0]\n",
      " [ 0  0  0  0 66  0  0  0  0  0]\n",
      " [ 0  0  0  0  0 76  0  0  0  0]\n",
      " [ 0  0  0  0  0  0 59  0  0  0]\n",
      " [ 0  0  0  0  0  0  0 65  0  0]\n",
      " [ 0  0  0  0  0  0  0  0 55  0]\n",
      " [ 0  0  0  1  0  0  0  0  0 70]]\n",
      "0.9984101748807631\n"
     ]
    }
   ],
   "source": [
    "# Test 4: Indicate the accuracy and the Confusion_matrix of the best model (kernel).\\n\"\n",
    "\n",
    "Score = clf.score(x_test, y_test)\n",
    "print(\"\\n Score : \\n\" , Score)\n",
    "\n",
    "\n",
    "print(\"\\n Confusion matrix: \\n \", confusion_matrix(y_test, y_pred))\n",
    "\n",
    "if Score>score:\n",
    "    bestscore = Score\n",
    "    print(bestscore)\n",
    "else:\n",
    "    print(score)"
   ]
  },
  {
   "cell_type": "code",
   "execution_count": null,
   "metadata": {},
   "outputs": [],
   "source": []
  }
 ],
 "metadata": {
  "kernelspec": {
   "display_name": "Python 3",
   "language": "python",
   "name": "python3"
  },
  "language_info": {
   "codemirror_mode": {
    "name": "ipython",
    "version": 3
   },
   "file_extension": ".py",
   "mimetype": "text/x-python",
   "name": "python",
   "nbconvert_exporter": "python",
   "pygments_lexer": "ipython3",
   "version": "3.7.6"
  }
 },
 "nbformat": 4,
 "nbformat_minor": 4
}
